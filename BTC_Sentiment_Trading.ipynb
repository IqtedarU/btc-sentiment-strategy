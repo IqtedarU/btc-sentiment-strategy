{
  "nbformat": 4,
  "nbformat_minor": 0,
  "metadata": {
    "colab": {
      "provenance": []
    },
    "kernelspec": {
      "name": "python3",
      "display_name": "Python 3"
    },
    "language_info": {
      "name": "python"
    }
  },
  "cells": [
    {
      "cell_type": "markdown",
      "source": [
        "# Sentiment Based Trading Strategy"
      ],
      "metadata": {
        "id": "DPas2_KtbtHR"
      }
    },
    {
      "cell_type": "markdown",
      "source": [
        "## Import Libraries"
      ],
      "metadata": {
        "id": "SQc0f4ObbqKc"
      }
    },
    {
      "cell_type": "code",
      "execution_count": 15,
      "metadata": {
        "id": "RJ_xk9-scpRz"
      },
      "outputs": [],
      "source": [
        "import pandas as pd\n",
        "from sentence_transformers import SentenceTransformer, util\n",
        "import numpy as np\n",
        "import matplotlib.pyplot as plt\n"
      ]
    },
    {
      "cell_type": "markdown",
      "source": [
        "## Apply Relevance"
      ],
      "metadata": {
        "id": "cT6wMOkGboit"
      }
    },
    {
      "cell_type": "code",
      "source": [
        "\"\"\"\n",
        "from sentence_transformers import SentenceTransformer, util\n",
        "\n",
        "# Load semantic model\n",
        "model = SentenceTransformer('all-MiniLM-L6-v2')\n",
        "\n",
        "# Define reference query\n",
        "btc_query = \"Bitcoin cryptocurrency blockchain BTC halving\"\n",
        "\n",
        "# Encode reference and articles\n",
        "btc_embedding = model.encode(btc_query, convert_to_tensor=True)\n",
        "texts = (news_df['TITLE'] + \". \" + news_df['CONTENT']).fillna('').tolist()\n",
        "text_embeddings = model.encode(texts, convert_to_tensor=True)\n",
        "\n",
        "# Compute cosine similarity as relevance score\n",
        "import torch\n",
        "scores = util.cos_sim(text_embeddings, btc_embedding).squeeze().cpu().numpy()\n",
        "news_df['btc_relevance_score'] = scores\n",
        "\"\"\""
      ],
      "metadata": {
        "colab": {
          "base_uri": "https://localhost:8080/",
          "height": 87
        },
        "id": "yg_h_wOIepQj",
        "outputId": "ecc39edf-8e46-40a4-d40f-9b85a4311062"
      },
      "execution_count": 16,
      "outputs": [
        {
          "output_type": "execute_result",
          "data": {
            "text/plain": [
              "'\\nfrom sentence_transformers import SentenceTransformer, util\\n\\n# Load semantic model\\nmodel = SentenceTransformer(\\'all-MiniLM-L6-v2\\')\\n\\n# Define reference query\\nbtc_query = \"Bitcoin cryptocurrency blockchain BTC halving\"\\n\\n# Encode reference and articles\\nbtc_embedding = model.encode(btc_query, convert_to_tensor=True)\\ntexts = (news_df[\\'TITLE\\'] + \". \" + news_df[\\'CONTENT\\']).fillna(\\'\\').tolist()\\ntext_embeddings = model.encode(texts, convert_to_tensor=True)\\n\\n# Compute cosine similarity as relevance score\\nimport torch\\nscores = util.cos_sim(text_embeddings, btc_embedding).squeeze().cpu().numpy()\\nnews_df[\\'btc_relevance_score\\'] = scores\\n'"
            ],
            "application/vnd.google.colaboratory.intrinsic+json": {
              "type": "string"
            }
          },
          "metadata": {},
          "execution_count": 16
        }
      ]
    },
    {
      "cell_type": "markdown",
      "source": [
        "## Apply Sentiment"
      ],
      "metadata": {
        "id": "0kMeOl_dbmxD"
      }
    },
    {
      "cell_type": "code",
      "source": [
        "\"\"\"\n",
        "!pip install vaderSentiment\n",
        "\n",
        "from vaderSentiment.vaderSentiment import SentimentIntensityAnalyzer\n",
        "analyzer = SentimentIntensityAnalyzer()\n",
        "\n",
        "# Apply sentiment on title + content\n",
        "def get_sentiment(text):\n",
        "    if pd.isna(text):\n",
        "        return 0.0\n",
        "    return analyzer.polarity_scores(text)['compound']\n",
        "\n",
        "filtered_news['text'] = filtered_news['TITLE'] + \". \" + filtered_news['CONTENT']\n",
        "filtered_news['sentiment'] = filtered_news['text'].apply(get_sentiment)\n",
        "\"\"\""
      ],
      "metadata": {
        "colab": {
          "base_uri": "https://localhost:8080/",
          "height": 70
        },
        "id": "uON_bTvqfVeh",
        "outputId": "51443a81-6fdd-491a-d69f-5acae1f4e780"
      },
      "execution_count": 17,
      "outputs": [
        {
          "output_type": "execute_result",
          "data": {
            "text/plain": [
              "'\\n!pip install vaderSentiment\\n\\nfrom vaderSentiment.vaderSentiment import SentimentIntensityAnalyzer\\nanalyzer = SentimentIntensityAnalyzer()\\n\\n# Apply sentiment on title + content\\ndef get_sentiment(text):\\n    if pd.isna(text):\\n        return 0.0\\n    return analyzer.polarity_scores(text)[\\'compound\\']\\n\\nfiltered_news[\\'text\\'] = filtered_news[\\'TITLE\\'] + \". \" + filtered_news[\\'CONTENT\\']\\nfiltered_news[\\'sentiment\\'] = filtered_news[\\'text\\'].apply(get_sentiment)\\n'"
            ],
            "application/vnd.google.colaboratory.intrinsic+json": {
              "type": "string"
            }
          },
          "metadata": {},
          "execution_count": 17
        }
      ]
    },
    {
      "cell_type": "markdown",
      "source": [
        "## Train Set Gridsearch"
      ],
      "metadata": {
        "id": "1P5WT35-bkWt"
      }
    },
    {
      "cell_type": "code",
      "source": [
        "import pandas as pd\n",
        "import numpy as np\n",
        "from itertools import product\n",
        "\n",
        "btc_df = pd.read_csv(\"BTC-USD.csv\")\n",
        "btc_df['date'] = pd.to_datetime(btc_df['Time'], unit='s')\n",
        "btc_df = btc_df[['date', 'Open', 'High', 'Low', 'Close', 'Volume']]\n",
        "\n",
        "news_df = pd.read_csv(\"filtered_crypto_news_with_sentiment.csv\")\n",
        "news_df['date'] = pd.to_datetime(news_df['date'])\n",
        "\n",
        "train_start = pd.Timestamp(\"2018-05-01\")\n",
        "train_end = pd.Timestamp(\"2022-12-31\")\n",
        "\n",
        "# Filter BTC and News to train window\n",
        "btc_df = btc_df[(btc_df['date'] >= train_start) & (btc_df['date'] <= train_end)].copy()\n",
        "news_df = news_df[(news_df['date'] >= train_start) & (news_df['date'] <= train_end)].copy()\n",
        "\n",
        "risk_free_rate_annual = 0.02\n",
        "transaction_cost_pct = 0.001\n",
        "slippage_pct = 0.0015\n",
        "total_cost_per_leg = transaction_cost_pct + slippage_pct\n",
        "transaction_cost_per_leg_log = np.log(1 - total_cost_per_leg)\n",
        "\n",
        "def calculate_max_drawdown(cumulative_returns):\n",
        "    peak = cumulative_returns.cummax()\n",
        "    drawdown = (cumulative_returns - peak) / peak\n",
        "    return drawdown.min()\n",
        "\n",
        "def run_strategy(relevance_threshold, sentiment_threshold, smoothing_window, stop_loss_pct):\n",
        "\n",
        "    filtered_news = news_df[news_df['btc_relevance_score'] > relevance_threshold].copy()\n",
        "    daily_sentiment = (\n",
        "        filtered_news.groupby('date')['sentiment']\n",
        "        .mean()\n",
        "        .reset_index()\n",
        "        .rename(columns={'sentiment': 'avg_sentiment'})\n",
        "    )\n",
        "    daily_sentiment['signal_date'] = daily_sentiment['date'] + pd.Timedelta(days=1)\n",
        "    daily_sentiment = daily_sentiment.drop(columns=['date'])\n",
        "\n",
        "    merged = pd.merge(btc_df, daily_sentiment, left_on='date', right_on='signal_date', how='left')\n",
        "    merged = merged.drop(columns=['signal_date'])\n",
        "    merged['avg_sentiment'] = merged['avg_sentiment'].fillna(0.0)\n",
        "    merged['smoothed_sentiment'] = merged['avg_sentiment'].rolling(window=smoothing_window, min_periods=1).mean()\n",
        "    merged['log_daily_return'] = np.log(merged['Close'] / merged['Open'])\n",
        "\n",
        "    def scaled_signal(sentiment):\n",
        "        if abs(sentiment) < sentiment_threshold:\n",
        "            return 0.0\n",
        "        return np.clip(sentiment / 1.0, -1.0, 1.0)\n",
        "\n",
        "    merged['raw_signal'] = merged['smoothed_sentiment'].apply(scaled_signal)\n",
        "\n",
        "    merged['position_actual'] = 0.0\n",
        "    merged['entry_price_actual'] = np.nan\n",
        "    merged['strategy_log_return'] = 0.0\n",
        "\n",
        "    for i in range(1, len(merged)):\n",
        "        signal_today = merged.loc[i, 'raw_signal']\n",
        "        prev_pos = merged.loc[i-1, 'position_actual']\n",
        "        prev_entry = merged.loc[i-1, 'entry_price_actual']\n",
        "\n",
        "        current_open = merged.loc[i, 'Open']\n",
        "        current_high = merged.loc[i, 'High']\n",
        "        current_low = merged.loc[i, 'Low']\n",
        "        effective_return = merged.loc[i, 'log_daily_return']\n",
        "\n",
        "        temp_pos = prev_pos\n",
        "        temp_entry = prev_entry\n",
        "\n",
        "        if signal_today != 0 and signal_today != prev_pos:\n",
        "            temp_pos = signal_today\n",
        "            temp_entry = current_open\n",
        "\n",
        "        if temp_pos > 0 and not np.isnan(temp_entry):\n",
        "            sl_price = temp_entry * (1 - stop_loss_pct)\n",
        "            if current_low <= sl_price:\n",
        "                effective_return = np.log(sl_price / current_open)\n",
        "                temp_pos = 0.0\n",
        "                temp_entry = np.nan\n",
        "        elif temp_pos < 0 and not np.isnan(temp_entry):\n",
        "            sl_price = temp_entry * (1 + stop_loss_pct)\n",
        "            if current_high >= sl_price:\n",
        "                effective_return = np.log(current_open / sl_price)\n",
        "                temp_pos = 0.0\n",
        "                temp_entry = np.nan\n",
        "\n",
        "        merged.loc[i, 'position_actual'] = temp_pos\n",
        "        merged.loc[i, 'entry_price_actual'] = temp_entry\n",
        "        merged.loc[i, 'strategy_log_return'] = temp_pos * effective_return\n",
        "\n",
        "        if temp_pos != prev_pos:\n",
        "            merged.loc[i, 'strategy_log_return'] += transaction_cost_per_leg_log\n",
        "\n",
        "    log_ret = merged['strategy_log_return'].dropna()\n",
        "\n",
        "    gains = log_ret[log_ret > 0].sum()\n",
        "    losses = -log_ret[log_ret < 0].sum()\n",
        "\n",
        "    profit_factor = gains / losses if losses > 0 else np.nan\n",
        "    daily_risk_free = (1 + risk_free_rate_annual) ** (1 / 365) - 1\n",
        "    excess = log_ret - daily_risk_free\n",
        "    sharpe = (excess.mean() / excess.std()) * np.sqrt(365) if excess.std() else np.nan\n",
        "    n = len(excess)\n",
        "    if n > 1 and excess.std() != 0:\n",
        "        sharpe_se = excess.std(ddof=1) / np.sqrt(n)\n",
        "        sharpe_ci_lower = sharpe - 1.96 * sharpe_se * np.sqrt(365)\n",
        "        sharpe_ci_upper = sharpe + 1.96 * sharpe_se * np.sqrt(365)\n",
        "    else:\n",
        "        sharpe_ci_lower, sharpe_ci_upper = np.nan, np.nan\n",
        "\n",
        "    downside_returns = excess[excess < 0]\n",
        "    downside_std = downside_returns.std()\n",
        "    sortino_ratio = (excess.mean() / downside_std) * np.sqrt(365) if downside_std > 0 else np.nan\n",
        "    win_rate = (log_ret > 0).mean()\n",
        "\n",
        "    merged['signal_diff'] = merged['position_actual'].diff().fillna(0)\n",
        "    num_trades = ((merged['signal_diff'] != 0) & (merged['position_actual'] != 0)).sum()\n",
        "    ann_return = (np.exp(log_ret.mean() * 365) - 1) * 100\n",
        "    max_dd = calculate_max_drawdown(np.exp(log_ret.cumsum()))\n",
        "\n",
        "    calmar_ratio = ann_return / abs(max_dd) if abs(max_dd) > 0 else np.nan\n",
        "\n",
        "    return {\n",
        "    \"Sharpe\": sharpe,\n",
        "    \"Sharpe_CI_Lower\": sharpe_ci_lower,\n",
        "    \"Sharpe_CI_Upper\": sharpe_ci_upper,\n",
        "    \"Annualized Return\": ann_return,\n",
        "    \"Max Drawdown\": max_dd,\n",
        "    \"Num Trades\": num_trades,\n",
        "    \"Win Rate\": win_rate,\n",
        "    \"Profit Factor\": profit_factor,\n",
        "    \"Sortino Ratio\": sortino_ratio,\n",
        "    \"Calmar Ratio\": calmar_ratio,\n",
        "    \"Relevance\": relevance_threshold,\n",
        "    \"Sentiment\": sentiment_threshold,\n",
        "    \"Window\": smoothing_window,\n",
        "    \"StopLoss\": stop_loss_pct\n",
        "    }\n",
        "\n",
        "# Grid Search Configuration\n",
        "relevance_vals = [0.2, 0.3, 0.4]\n",
        "sentiment_vals = [0.2, 0.3, 0.4, 0.5]\n",
        "window_vals = [3, 5, 7]\n",
        "stop_vals = [0.03, 0.05, 0.08]\n",
        "\n",
        "results = []\n",
        "for r, s, w, sl in product(relevance_vals, sentiment_vals, window_vals, stop_vals):\n",
        "    try:\n",
        "        result = run_strategy(r, s, w, sl)\n",
        "        results.append(result)\n",
        "    except Exception as e:\n",
        "        print(f\"Failed for {r}, {s}, {w}, {sl}: {e}\")\n",
        "\n",
        "# Save results to CSV\n",
        "results_df = pd.DataFrame(results)\n",
        "results_df = results_df.sort_values(by=\"Sharpe\", ascending=False).reset_index(drop=True)\n",
        "results_df.to_csv(\"sentiment_gridsearch_result.csv\", index=False)\n",
        "\n",
        "print(\"\\n Grid search complete. Results saved to 'sentiment_gridsearch_result.csv'\")\n"
      ],
      "metadata": {
        "colab": {
          "base_uri": "https://localhost:8080/"
        },
        "id": "GnOYzLGElsSQ",
        "outputId": "e2d8d610-2d2f-41ff-abe5-163bd7a23163"
      },
      "execution_count": 18,
      "outputs": [
        {
          "output_type": "stream",
          "name": "stdout",
          "text": [
            "\n",
            " Grid search complete. Results saved to 'sentiment_gridsearch_result.csv'\n"
          ]
        }
      ]
    },
    {
      "cell_type": "markdown",
      "source": [
        "## Test Set Evaluation"
      ],
      "metadata": {
        "id": "eNkzS_Q8bY9N"
      }
    },
    {
      "cell_type": "code",
      "source": [
        "import pandas as pd\n",
        "import numpy as np\n",
        "from itertools import product\n",
        "\n",
        "\n",
        "btc_df = pd.read_csv(\"BTC-USD.csv\")\n",
        "btc_df['date'] = pd.to_datetime(btc_df['Time'], unit='s')\n",
        "btc_df = btc_df[['date', 'Open', 'High', 'Low', 'Close', 'Volume']]\n",
        "\n",
        "news_df = pd.read_csv(\"filtered_crypto_news_with_sentiment.csv\")\n",
        "news_df['date'] = pd.to_datetime(news_df['date'])\n",
        "\n",
        "test_start = pd.Timestamp(\"2023-01-01\")\n",
        "test_end = pd.Timestamp(\"2025-01-31\")\n",
        "\n",
        "btc_df = btc_df[(btc_df['date'] >= test_start) & (btc_df['date'] <= test_end)].copy()\n",
        "news_df = news_df[(news_df['date'] >= test_start) & (news_df['date'] <= test_end)].copy()\n",
        "\n",
        "risk_free_rate_annual = 0.02\n",
        "transaction_cost_pct = 0.001\n",
        "slippage_pct = 0.0015\n",
        "total_cost_per_leg = transaction_cost_pct + slippage_pct\n",
        "transaction_cost_per_leg_log = np.log(1 - total_cost_per_leg)\n",
        "\n",
        "def calculate_max_drawdown(cumulative_returns):\n",
        "    peak = cumulative_returns.cummax()\n",
        "    drawdown = (cumulative_returns - peak) / peak\n",
        "    return drawdown.min()\n",
        "\n",
        "def run_strategy(relevance_threshold, sentiment_threshold, smoothing_window, stop_loss_pct):\n",
        "    filtered_news = news_df[news_df['btc_relevance_score'] > relevance_threshold].copy()\n",
        "    daily_sentiment = (\n",
        "        filtered_news.groupby('date')['sentiment']\n",
        "        .mean()\n",
        "        .reset_index()\n",
        "        .rename(columns={'sentiment': 'avg_sentiment'})\n",
        "    )\n",
        "    daily_sentiment['signal_date'] = daily_sentiment['date'] + pd.Timedelta(days=1)\n",
        "    daily_sentiment = daily_sentiment.drop(columns=['date'])\n",
        "\n",
        "    merged = pd.merge(btc_df, daily_sentiment, left_on='date', right_on='signal_date', how='left')\n",
        "    merged = merged.drop(columns=['signal_date'])\n",
        "    merged['avg_sentiment'] = merged['avg_sentiment'].fillna(0.0)\n",
        "    merged['smoothed_sentiment'] = merged['avg_sentiment'].rolling(window=smoothing_window, min_periods=1).mean()\n",
        "    merged['log_daily_return'] = np.log(merged['Close'] / merged['Open'])\n",
        "\n",
        "    def scaled_signal(sentiment):\n",
        "        if abs(sentiment) < sentiment_threshold:\n",
        "            return 0.0\n",
        "        return np.clip(sentiment / 1.0, -1.0, 1.0)\n",
        "\n",
        "    merged['raw_signal'] = merged['smoothed_sentiment'].apply(scaled_signal)\n",
        "\n",
        "    merged['position_actual'] = 0.0\n",
        "    merged['entry_price_actual'] = np.nan\n",
        "    merged['strategy_log_return'] = 0.0\n",
        "\n",
        "    for i in range(1, len(merged)):\n",
        "        signal_today = merged.loc[i, 'raw_signal']\n",
        "        prev_pos = merged.loc[i-1, 'position_actual']\n",
        "        prev_entry = merged.loc[i-1, 'entry_price_actual']\n",
        "\n",
        "        current_open = merged.loc[i, 'Open']\n",
        "        current_high = merged.loc[i, 'High']\n",
        "        current_low = merged.loc[i, 'Low']\n",
        "        effective_return = merged.loc[i, 'log_daily_return']\n",
        "\n",
        "        temp_pos = prev_pos\n",
        "        temp_entry = prev_entry\n",
        "\n",
        "        if signal_today != 0 and signal_today != prev_pos:\n",
        "            temp_pos = signal_today\n",
        "            temp_entry = current_open\n",
        "\n",
        "        if temp_pos > 0 and not np.isnan(temp_entry):\n",
        "            sl_price = temp_entry * (1 - stop_loss_pct)\n",
        "            if current_low <= sl_price:\n",
        "                effective_return = np.log(sl_price / current_open)\n",
        "                temp_pos = 0.0\n",
        "                temp_entry = np.nan\n",
        "        elif temp_pos < 0 and not np.isnan(temp_entry):\n",
        "            sl_price = temp_entry * (1 + stop_loss_pct)\n",
        "            if current_high >= sl_price:\n",
        "                effective_return = np.log(current_open / sl_price)\n",
        "                temp_pos = 0.0\n",
        "                temp_entry = np.nan\n",
        "\n",
        "        merged.loc[i, 'position_actual'] = temp_pos\n",
        "        merged.loc[i, 'entry_price_actual'] = temp_entry\n",
        "        merged.loc[i, 'strategy_log_return'] = temp_pos * effective_return\n",
        "\n",
        "        if temp_pos != prev_pos:\n",
        "            merged.loc[i, 'strategy_log_return'] += transaction_cost_per_leg_log\n",
        "\n",
        "        log_ret = merged['strategy_log_return'].dropna()\n",
        "\n",
        "    gains = log_ret[log_ret > 0].sum()\n",
        "    losses = -log_ret[log_ret < 0].sum()\n",
        "\n",
        "    profit_factor = gains / losses if losses > 0 else np.nan\n",
        "    daily_risk_free = (1 + risk_free_rate_annual) ** (1 / 365) - 1\n",
        "    excess = log_ret - daily_risk_free\n",
        "    sharpe = (excess.mean() / excess.std()) * np.sqrt(365) if excess.std() else np.nan\n",
        "    n = len(excess)\n",
        "    if n > 1 and excess.std() != 0:\n",
        "        sharpe_se = excess.std(ddof=1) / np.sqrt(n)\n",
        "        sharpe_ci_lower = sharpe - 1.96 * sharpe_se * np.sqrt(365)\n",
        "        sharpe_ci_upper = sharpe + 1.96 * sharpe_se * np.sqrt(365)\n",
        "    else:\n",
        "        sharpe_ci_lower, sharpe_ci_upper = np.nan, np.nan\n",
        "\n",
        "    downside_returns = excess[excess < 0]\n",
        "    downside_std = downside_returns.std()\n",
        "    sortino_ratio = (excess.mean() / downside_std) * np.sqrt(365) if downside_std > 0 else np.nan\n",
        "    win_rate = (log_ret > 0).mean()\n",
        "\n",
        "\n",
        "    merged['signal_diff'] = merged['position_actual'].diff().fillna(0)\n",
        "    num_trades = ((merged['signal_diff'] != 0) & (merged['position_actual'] != 0)).sum()\n",
        "    ann_return = (np.exp(log_ret.mean() * 365) - 1) * 100\n",
        "    max_dd = calculate_max_drawdown(np.exp(log_ret.cumsum()))\n",
        "\n",
        "    calmar_ratio = (ann_return / 100) / abs(max_dd) if abs(max_dd) > 0 else np.nan\n",
        "\n",
        "    merged['cumulative_strategy'] = np.exp(merged['strategy_log_return'].cumsum())\n",
        "\n",
        "    merged['benchmark_log_return'] = np.log(merged['Close'] / merged['Open'])\n",
        "    merged['cumulative_benchmark'] = np.exp(merged['benchmark_log_return'].cumsum())\n",
        "\n",
        "    return {\n",
        "    \"Sharpe\": sharpe,\n",
        "    \"Sharpe_CI_Lower\": sharpe_ci_lower,\n",
        "    \"Sharpe_CI_Upper\": sharpe_ci_upper,\n",
        "    \"Annualized Return\": ann_return,\n",
        "    \"Max Drawdown\": max_dd,\n",
        "    \"Num Trades\": num_trades,\n",
        "    \"Win Rate\": win_rate,\n",
        "    \"Profit Factor\": profit_factor,\n",
        "    \"Sortino Ratio\": sortino_ratio,\n",
        "    \"Calmar Ratio\": calmar_ratio,\n",
        "    \"Relevance\": relevance_threshold,\n",
        "    \"Sentiment\": sentiment_threshold,\n",
        "    \"Window\": smoothing_window,\n",
        "    \"StopLoss\": stop_loss_pct,\n",
        "    \"merged_df\": merged\n",
        "    }\n",
        "\n",
        "\n",
        "relevance_threshold = 0.2\n",
        "sentiment_threshold = 0.2\n",
        "smoothing_window = 7\n",
        "stop_loss_pct = 0.03\n",
        "\n",
        "result = run_strategy(relevance_threshold, sentiment_threshold, smoothing_window, stop_loss_pct)\n",
        "for k, v in result.items():\n",
        "    print(f\"{k}: {v}\")\n",
        "\n"
      ],
      "metadata": {
        "colab": {
          "base_uri": "https://localhost:8080/"
        },
        "id": "PISbTiFErEXS",
        "outputId": "775cb068-ee50-4739-be55-3d645496baba"
      },
      "execution_count": 19,
      "outputs": [
        {
          "output_type": "stream",
          "name": "stdout",
          "text": [
            "Sharpe: 2.917312928728635\n",
            "Sharpe_CI_Lower: 2.901617088792685\n",
            "Sharpe_CI_Upper: 2.9330087686645845\n",
            "Annualized Return: 93.81408486583763\n",
            "Max Drawdown: -0.18017507981585162\n",
            "Num Trades: 575\n",
            "Win Rate: 0.39072847682119205\n",
            "Profit Factor: 1.6632454912868995\n",
            "Sortino Ratio: 8.398386722902265\n",
            "Calmar Ratio: 520.6829099879991\n",
            "Relevance: 0.2\n",
            "Sentiment: 0.2\n",
            "Window: 7\n",
            "StopLoss: 0.03\n",
            "merged_df:           date       Open       High        Low      Close        Volume  \\\n",
            "0   2025-01-24  103926.36  107200.00  102751.92  104490.65  12791.293456   \n",
            "1   2025-01-23  103659.60  106870.87  101200.01  103926.36  25064.864999   \n",
            "2   2025-01-22  106159.27  106431.34  103100.00  103667.11  10730.018962   \n",
            "3   2025-01-21  102145.42  107291.10  100051.00  106159.26  19411.234890   \n",
            "4   2025-01-20  101217.78  109358.01   99416.27  102145.43  32342.183113   \n",
            "..         ...        ...        ...        ...        ...           ...   \n",
            "750 2023-01-05   16844.40   16872.13   16750.07   16825.69  14918.229133   \n",
            "751 2023-01-04   16668.95   16988.00   16645.87   16844.42  25922.706806   \n",
            "752 2023-01-03   16666.86   16772.30   16600.00   16669.47  17612.355277   \n",
            "753 2023-01-02   16611.90   16789.99   16542.52   16666.95  13560.460180   \n",
            "754 2023-01-01   16531.83   16621.00   16490.00   16611.58  10668.736977   \n",
            "\n",
            "     avg_sentiment  smoothed_sentiment  log_daily_return  raw_signal  \\\n",
            "0         0.991200            0.991200          0.005415    0.991200   \n",
            "1         0.548367            0.769783          0.002570    0.769783   \n",
            "2         0.566825            0.702131         -0.023756    0.702131   \n",
            "3         0.933560            0.759988          0.038543    0.759988   \n",
            "4         0.000000            0.607990          0.009123    0.607990   \n",
            "..             ...                 ...               ...         ...   \n",
            "750       0.606750            0.397101         -0.001111    0.397101   \n",
            "751       0.311075            0.410774          0.010472    0.410774   \n",
            "752      -0.246100            0.380919          0.000157    0.380919   \n",
            "753       0.934400            0.514405          0.003308    0.514405   \n",
            "754       0.000000            0.391190          0.004812    0.391190   \n",
            "\n",
            "     position_actual  entry_price_actual  strategy_log_return  signal_diff  \\\n",
            "0           0.000000                 NaN             0.000000     0.000000   \n",
            "1           0.769783           103659.60            -0.000525     0.769783   \n",
            "2           0.702131           106159.27            -0.019183    -0.067653   \n",
            "3           0.759988           102145.42             0.026789     0.057857   \n",
            "4           0.607990           101217.78             0.003044    -0.151998   \n",
            "..               ...                 ...                  ...          ...   \n",
            "750         0.397101            16844.40            -0.002944     0.041753   \n",
            "751         0.410774            16668.95             0.001798     0.013673   \n",
            "752         0.380919            16666.86            -0.002443    -0.029856   \n",
            "753         0.514405            16611.90            -0.000801     0.133486   \n",
            "754         0.391190            16531.83            -0.000621    -0.123214   \n",
            "\n",
            "     cumulative_strategy  benchmark_log_return  cumulative_benchmark  \n",
            "0               1.000000              0.005415              1.005430  \n",
            "1               0.999475              0.002570              1.008017  \n",
            "2               0.980486             -0.023756              0.984353  \n",
            "3               1.007107              0.038543              1.023034  \n",
            "4               1.010177              0.009123              1.032410  \n",
            "..                   ...                   ...                   ...  \n",
            "750             3.938694             -0.001111              6.221520  \n",
            "751             3.945784              0.010472              6.287012  \n",
            "752             3.936154              0.000157              6.287997  \n",
            "753             3.933001              0.003308              6.308834  \n",
            "754             3.930562              0.004812              6.339268  \n",
            "\n",
            "[755 rows x 17 columns]\n"
          ]
        }
      ]
    },
    {
      "cell_type": "markdown",
      "source": [
        "## Benchmark Comparison\n"
      ],
      "metadata": {
        "id": "r1w5ZOhObeFG"
      }
    },
    {
      "cell_type": "code",
      "source": [
        "btc_merged = result['merged_df']\n",
        "\n",
        "benchmark_log_ret = btc_merged['benchmark_log_return']\n",
        "\n",
        "benchmark_start_price = btc_merged.loc[btc_merged['date'] == btc_merged['date'].min(), 'Open'].iloc[0]\n",
        "benchmark_end_price = btc_merged.loc[btc_merged['date'] == btc_merged['date'].max(), 'Close'].iloc[0]\n",
        "benchmark_total_return_pct = ((benchmark_end_price / benchmark_start_price) - 1) * 100\n",
        "\n",
        "benchmark_annualized_log_return = benchmark_log_ret.mean() * 365\n",
        "benchmark_annualized_return_pct = (np.exp(benchmark_annualized_log_return) - 1) * 100\n",
        "\n",
        "benchmark_max_drawdown = calculate_max_drawdown(btc_merged['cumulative_benchmark'])\n",
        "\n",
        "print(\"\\n Benchmark Performance (Buy and Hold BTC)\")\n",
        "print(f\"Benchmark Total Return:      {benchmark_total_return_pct:.2f}%\")\n",
        "print(f\"Benchmark Annualized Return: {benchmark_annualized_return_pct:.2f}%\")\n",
        "print(f\"Benchmark Max Drawdown:      {benchmark_max_drawdown:.2%}\")\n",
        "\n",
        "plt.figure(figsize=(12, 6))\n",
        "plt.plot(btc_merged['date'], btc_merged['cumulative_strategy'], label='Strategy Cumulative Return', color='blue')\n",
        "plt.plot(btc_merged['date'], btc_merged['cumulative_benchmark'], label='Benchmark Cumulative Return', color='orange')\n",
        "plt.title('Cumulative Returns: Strategy vs. Benchmark')\n",
        "plt.xlabel('Date')\n",
        "plt.ylabel('Cumulative Return')\n",
        "plt.legend()\n",
        "plt.grid(True)\n",
        "plt.show()"
      ],
      "metadata": {
        "id": "tlO0r46ukAjS",
        "colab": {
          "base_uri": "https://localhost:8080/",
          "height": 651
        },
        "outputId": "83e08cbf-fb9a-45b7-9faf-881f706428c5"
      },
      "execution_count": 20,
      "outputs": [
        {
          "output_type": "stream",
          "name": "stdout",
          "text": [
            "\n",
            " Benchmark Performance (Buy and Hold BTC)\n",
            "Benchmark Total Return:      532.06%\n",
            "Benchmark Annualized Return: 144.20%\n",
            "Benchmark Max Drawdown:      -26.15%\n"
          ]
        },
        {
          "output_type": "display_data",
          "data": {
            "text/plain": [
              "<Figure size 1200x600 with 1 Axes>"
            ],
            "image/png": "[encoded data removed]"
          },
          "metadata": {}
        }
      ]
    }
  ]
}